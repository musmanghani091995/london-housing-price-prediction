{
  "nbformat": 4,
  "nbformat_minor": 0,
  "metadata": {
    "colab": {
      "provenance": [],
      "authorship_tag": "ABX9TyO9bkrv6C1qEXKEbJmaKE2C",
      "include_colab_link": true
    },
    "kernelspec": {
      "name": "python3",
      "display_name": "Python 3"
    },
    "language_info": {
      "name": "python"
    }
  },
  "cells": [
    {
      "cell_type": "markdown",
      "metadata": {
        "id": "view-in-github",
        "colab_type": "text"
      },
      "source": [
        "<a href=\"https://colab.research.google.com/github/musmanghani091995/london-housing-price-prediction/blob/main/Zameen_com_Housing_Sale_Rent_Price_Prediction.ipynb\" target=\"_parent\"><img src=\"https://colab.research.google.com/assets/colab-badge.svg\" alt=\"Open In Colab\"/></a>"
      ]
    },
    {
      "cell_type": "code",
      "execution_count": 1,
      "metadata": {
        "id": "qTmbTe69Paek"
      },
      "outputs": [],
      "source": [
        "import numpy as np\n",
        "import pandas as pd\n"
      ]
    },
    {
      "cell_type": "code",
      "source": [
        "from google.colab import drive\n",
        "drive.mount('/content/drive')"
      ],
      "metadata": {
        "colab": {
          "base_uri": "https://localhost:8080/"
        },
        "id": "F3y2zvpmRNtm",
        "outputId": "a7ae358b-0127-423d-8824-eca9938f5658"
      },
      "execution_count": 2,
      "outputs": [
        {
          "output_type": "stream",
          "name": "stdout",
          "text": [
            "Mounted at /content/drive\n"
          ]
        }
      ]
    },
    {
      "cell_type": "code",
      "source": [
        "!ls \"/content/drive/My Drive\""
      ],
      "metadata": {
        "colab": {
          "base_uri": "https://localhost:8080/"
        },
        "id": "LGcDhNp1SCoA",
        "outputId": "f5719918-6a3c-4d43-fd5a-5782ba097d48"
      },
      "execution_count": 9,
      "outputs": [
        {
          "output_type": "stream",
          "name": "stdout",
          "text": [
            "'Annual plan of Mathematics.gsheet'\n",
            "'Cambridge International AS and A Level Mathematics Mechanics ( PDFDrive ).pdf'\n",
            "'Cambridge International AS and A Level Mathematics Pure Mathematics 1 ( PDF.pdf'\n",
            "'Complete Mathematics for Cambridge IGCSE (R) Student Book (Extended) by David Rayner (z-lib.org).pdf'\n",
            "'Complete Probability   Statistics 1 for Cambridge International AS   A Leve.pdf'\n",
            "'Complete Pure Mathematics 2   3 for Cambridge International AS   A Level ( .pdf'\n",
            "'Counting and probability breakup.gsheet'\n",
            "'Elementary School Math Contest China Studenst List.xlsx'\n",
            "'Expense details sheet.gsheet'\n",
            " personal\n",
            "'Personal Educational Documents.pdf'\n",
            "'SSS leave record .gsheet'\n",
            " Zameen.com_Housing_Project\n"
          ]
        }
      ]
    },
    {
      "cell_type": "code",
      "source": [
        "!ls \"/content/drive/My Drive/Zameen.com_Housing_Project\""
      ],
      "metadata": {
        "colab": {
          "base_uri": "https://localhost:8080/"
        },
        "id": "XtUP9I4zR636",
        "outputId": "53c92505-cacf-472b-c85c-71b0afdfa362"
      },
      "execution_count": 11,
      "outputs": [
        {
          "output_type": "stream",
          "name": "stdout",
          "text": [
            "zameen-updated.csv\n"
          ]
        }
      ]
    },
    {
      "cell_type": "code",
      "source": [
        "df = pd.read_csv('/content/drive/My Drive/Zameen.com_Housing_Project/zameen-updated.csv')\n"
      ],
      "metadata": {
        "id": "4qFkcwdrUI8r"
      },
      "execution_count": 13,
      "outputs": []
    },
    {
      "cell_type": "code",
      "source": [],
      "metadata": {
        "id": "EfDHcT7ZUXOb"
      },
      "execution_count": null,
      "outputs": []
    }
  ]
}